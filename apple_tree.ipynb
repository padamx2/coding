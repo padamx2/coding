{
 "cells": [
  {
   "cell_type": "code",
   "execution_count": 12,
   "source": [
    "'''\n",
    "사과나무(다이아몬드)\n",
    "현수의 농장은 N*N 격자판으로 이루어져 있으며, 각 격자안에는 한 그루의 사과나무가 심어저\n",
    "있다. N의 크기는 항상 홀수이다. 가을이 되어 사과를 수확해야 하는데 현수는 격자판안의 사\n",
    "과를 수확할 때 다이아몬드 모양의 격자판만 수확하고 나머지 격자안의 사과는 새들을 위해서\n",
    "남겨놓는다.\n",
    "만약 N이 5이면 아래 그림과 같이 진한 부분의 사과를 수확한다.\n",
    "10 13 10 12 15\n",
    "12 39 30 23 11\n",
    "11 25 50 53 15\n",
    "19 27 29 37 27\n",
    "19 13 30 13 19\n",
    "현수과 수확하는 사과의 총 개수를 출력하세요.\n",
    "▣ 입력설명\n",
    "첫 줄에 자연수 N(홀수)이 주어진다.(3<=N<=20)\n",
    "두 번째 줄부터 N줄에 걸쳐 각 줄에 N개의 자연수가 주어진다.\n",
    "이 자연수는 각 격자안에 있는 사과나무에 열린 사과의 개수이다.\n",
    "각 격자안의 사과의 개수는 100을 넘지 않는다.\n",
    "▣ 출력설명\n",
    "수확한 사과의 총 개수를 출력합니다.\n",
    "▣ 입력예제 1\n",
    "5\n",
    "10 13 10 12 15\n",
    "12 39 30 23 11\n",
    "11 25 50 53 15\n",
    "19 27 29 37 27\n",
    "19 13 30 13 19\n",
    "▣ 출력예제 1\n",
    "379\n",
    "'''"
   ],
   "outputs": [
    {
     "output_type": "execute_result",
     "data": {
      "text/plain": [
       "'\\n사과나무(다이아몬드)\\n현수의 농장은 N*N 격자판으로 이루어져 있으며, 각 격자안에는 한 그루의 사과나무가 심어저\\n있다. N의 크기는 항상 홀수이다. 가을이 되어 사과를 수확해야 하는데 현수는 격자판안의 사\\n과를 수확할 때 다이아몬드 모양의 격자판만 수확하고 나머지 격자안의 사과는 새들을 위해서\\n남겨놓는다.\\n만약 N이 5이면 아래 그림과 같이 진한 부분의 사과를 수확한다.\\n10 13 10 12 15\\n12 39 30 23 11\\n11 25 50 53 15\\n19 27 29 37 27\\n19 13 30 13 19\\n현수과 수확하는 사과의 총 개수를 출력하세요.\\n▣ 입력설명\\n첫 줄에 자연수 N(홀수)이 주어진다.(3<=N<=20)\\n두 번째 줄부터 N줄에 걸쳐 각 줄에 N개의 자연수가 주어진다.\\n이 자연수는 각 격자안에 있는 사과나무에 열린 사과의 개수이다.\\n각 격자안의 사과의 개수는 100을 넘지 않는다.\\n▣ 출력설명\\n수확한 사과의 총 개수를 출력합니다.\\n▣ 입력예제 1\\n5\\n10 13 10 12 15\\n12 39 30 23 11\\n11 25 50 53 15\\n19 27 29 37 27\\n19 13 30 13 19\\n▣ 출력예제 1\\n379\\n'"
      ]
     },
     "metadata": {},
     "execution_count": 12
    }
   ],
   "metadata": {}
  },
  {
   "cell_type": "code",
   "execution_count": 18,
   "source": [
    "import sys\n",
    "sys.stdin = open(\"input.txt\", 'r')"
   ],
   "outputs": [],
   "metadata": {}
  },
  {
   "cell_type": "code",
   "execution_count": 19,
   "source": [
    "\n",
    "n = int(input())"
   ],
   "outputs": [
    {
     "output_type": "stream",
     "name": "stdout",
     "text": [
      "5\n"
     ]
    }
   ],
   "metadata": {}
  },
  {
   "cell_type": "code",
   "execution_count": 15,
   "source": [
    "\n",
    "\n",
    "a = [list(map(int, input().split())) for _ in range(n)]\n",
    "res = 0\n",
    "\n",
    "s = e = n//2\n",
    "for i in range(n):\n",
    "    for j in range(s, e+1):\n",
    "        res+=a[i][j]\n",
    "    if i<n//2:\n",
    "        s-=1\n",
    "        e+=1\n",
    "    else:\n",
    "        s+=1\n",
    "        e-=1\n",
    "print(res)"
   ],
   "outputs": [
    {
     "output_type": "error",
     "ename": "IndexError",
     "evalue": "list index out of range",
     "traceback": [
      "\u001b[0;31m---------------------------------------------------------------------------\u001b[0m",
      "\u001b[0;31mIndexError\u001b[0m                                Traceback (most recent call last)",
      "\u001b[0;32m<ipython-input-15-8a59dcb04421>\u001b[0m in \u001b[0;36m<module>\u001b[0;34m\u001b[0m\n\u001b[1;32m      5\u001b[0m \u001b[0;32mfor\u001b[0m \u001b[0mi\u001b[0m \u001b[0;32min\u001b[0m \u001b[0mrange\u001b[0m\u001b[0;34m(\u001b[0m\u001b[0mn\u001b[0m\u001b[0;34m)\u001b[0m\u001b[0;34m:\u001b[0m\u001b[0;34m\u001b[0m\u001b[0;34m\u001b[0m\u001b[0m\n\u001b[1;32m      6\u001b[0m     \u001b[0;32mfor\u001b[0m \u001b[0mj\u001b[0m \u001b[0;32min\u001b[0m \u001b[0mrange\u001b[0m\u001b[0;34m(\u001b[0m\u001b[0ms\u001b[0m\u001b[0;34m,\u001b[0m \u001b[0me\u001b[0m\u001b[0;34m+\u001b[0m\u001b[0;36m1\u001b[0m\u001b[0;34m)\u001b[0m\u001b[0;34m:\u001b[0m\u001b[0;34m\u001b[0m\u001b[0;34m\u001b[0m\u001b[0m\n\u001b[0;32m----> 7\u001b[0;31m         \u001b[0mres\u001b[0m\u001b[0;34m+=\u001b[0m\u001b[0ma\u001b[0m\u001b[0;34m[\u001b[0m\u001b[0mi\u001b[0m\u001b[0;34m]\u001b[0m\u001b[0;34m[\u001b[0m\u001b[0mj\u001b[0m\u001b[0;34m]\u001b[0m\u001b[0;34m\u001b[0m\u001b[0;34m\u001b[0m\u001b[0m\n\u001b[0m\u001b[1;32m      8\u001b[0m     \u001b[0;32mif\u001b[0m \u001b[0mi\u001b[0m\u001b[0;34m<\u001b[0m\u001b[0mn\u001b[0m\u001b[0;34m//\u001b[0m\u001b[0;36m2\u001b[0m\u001b[0;34m:\u001b[0m\u001b[0;34m\u001b[0m\u001b[0;34m\u001b[0m\u001b[0m\n\u001b[1;32m      9\u001b[0m         \u001b[0ms\u001b[0m\u001b[0;34m-=\u001b[0m\u001b[0;36m1\u001b[0m\u001b[0;34m\u001b[0m\u001b[0;34m\u001b[0m\u001b[0m\n",
      "\u001b[0;31mIndexError\u001b[0m: list index out of range"
     ]
    }
   ],
   "metadata": {}
  },
  {
   "cell_type": "code",
   "execution_count": null,
   "source": [],
   "outputs": [],
   "metadata": {}
  }
 ],
 "metadata": {
  "orig_nbformat": 4,
  "language_info": {
   "name": "python",
   "version": "3.8.8",
   "mimetype": "text/x-python",
   "codemirror_mode": {
    "name": "ipython",
    "version": 3
   },
   "pygments_lexer": "ipython3",
   "nbconvert_exporter": "python",
   "file_extension": ".py"
  },
  "kernelspec": {
   "name": "python3",
   "display_name": "Python 3.8.8 64-bit ('base': conda)"
  },
  "interpreter": {
   "hash": "e134e05457d34029b6460cd73bbf1ed73f339b5b6d98c95be70b69eba114fe95"
  }
 },
 "nbformat": 4,
 "nbformat_minor": 2
}